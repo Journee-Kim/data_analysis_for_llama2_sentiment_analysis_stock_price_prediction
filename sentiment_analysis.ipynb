{
 "cells": [
  {
   "cell_type": "markdown",
   "metadata": {},
   "source": [
    "### Extract Sentiment scores"
   ]
  },
  {
   "cell_type": "code",
   "execution_count": 2,
   "metadata": {},
   "outputs": [],
   "source": [
    "import pandas as pd\n",
    "import numpy as np\n",
    "from datetime import datetime\n",
    "import matplotlib.pyplot as plt\n",
    "import seaborn as sns"
   ]
  },
  {
   "cell_type": "code",
   "execution_count": 4,
   "metadata": {},
   "outputs": [
    {
     "data": {
      "text/html": [
       "<div>\n",
       "<style scoped>\n",
       "    .dataframe tbody tr th:only-of-type {\n",
       "        vertical-align: middle;\n",
       "    }\n",
       "\n",
       "    .dataframe tbody tr th {\n",
       "        vertical-align: top;\n",
       "    }\n",
       "\n",
       "    .dataframe thead th {\n",
       "        text-align: right;\n",
       "    }\n",
       "</style>\n",
       "<table border=\"1\" class=\"dataframe\">\n",
       "  <thead>\n",
       "    <tr style=\"text-align: right;\">\n",
       "      <th></th>\n",
       "      <th>date</th>\n",
       "      <th>text</th>\n",
       "      <th>label</th>\n",
       "    </tr>\n",
       "  </thead>\n",
       "  <tbody>\n",
       "    <tr>\n",
       "      <th>0</th>\n",
       "      <td>2021-01-29</td>\n",
       "      <td>A month after the holiday season, gamers are s...</td>\n",
       "      <td>negative</td>\n",
       "    </tr>\n",
       "    <tr>\n",
       "      <th>1</th>\n",
       "      <td>2021-01-23</td>\n",
       "      <td>Microsoft, Starbucks and Amazon are among the ...</td>\n",
       "      <td>positive</td>\n",
       "    </tr>\n",
       "    <tr>\n",
       "      <th>2</th>\n",
       "      <td>2021-01-26</td>\n",
       "      <td>The company had its first $5 billion quarter f...</td>\n",
       "      <td>positive</td>\n",
       "    </tr>\n",
       "    <tr>\n",
       "      <th>3</th>\n",
       "      <td>2021-01-04</td>\n",
       "      <td>Chief executives and other leaders from many o...</td>\n",
       "      <td>positive</td>\n",
       "    </tr>\n",
       "    <tr>\n",
       "      <th>4</th>\n",
       "      <td>2021-01-27</td>\n",
       "      <td>The stock has soared to scarcely believable le...</td>\n",
       "      <td>neutral</td>\n",
       "    </tr>\n",
       "    <tr>\n",
       "      <th>...</th>\n",
       "      <td>...</td>\n",
       "      <td>...</td>\n",
       "      <td>...</td>\n",
       "    </tr>\n",
       "    <tr>\n",
       "      <th>1530</th>\n",
       "      <td>2020-12-15</td>\n",
       "      <td>The private helicopter taxi company is merging...</td>\n",
       "      <td>neutral</td>\n",
       "    </tr>\n",
       "    <tr>\n",
       "      <th>1531</th>\n",
       "      <td>2020-12-09</td>\n",
       "      <td>Regulators are accusing the company of buying ...</td>\n",
       "      <td>negative</td>\n",
       "    </tr>\n",
       "    <tr>\n",
       "      <th>1532</th>\n",
       "      <td>2020-12-18</td>\n",
       "      <td>The cryptocurrency giant’s initial public offe...</td>\n",
       "      <td>neutral</td>\n",
       "    </tr>\n",
       "    <tr>\n",
       "      <th>1533</th>\n",
       "      <td>2020-12-14</td>\n",
       "      <td>Roblox delayed its debut as Wall Street worrie...</td>\n",
       "      <td>negative</td>\n",
       "    </tr>\n",
       "    <tr>\n",
       "      <th>1534</th>\n",
       "      <td>2020-12-03</td>\n",
       "      <td>Just 1 percent of borrowers received a quarter...</td>\n",
       "      <td>negative</td>\n",
       "    </tr>\n",
       "  </tbody>\n",
       "</table>\n",
       "<p>1535 rows × 3 columns</p>\n",
       "</div>"
      ],
      "text/plain": [
       "            date                                               text     label\n",
       "0     2021-01-29  A month after the holiday season, gamers are s...  negative\n",
       "1     2021-01-23  Microsoft, Starbucks and Amazon are among the ...  positive\n",
       "2     2021-01-26  The company had its first $5 billion quarter f...  positive\n",
       "3     2021-01-04  Chief executives and other leaders from many o...  positive\n",
       "4     2021-01-27  The stock has soared to scarcely believable le...   neutral\n",
       "...          ...                                                ...       ...\n",
       "1530  2020-12-15  The private helicopter taxi company is merging...   neutral\n",
       "1531  2020-12-09  Regulators are accusing the company of buying ...  negative\n",
       "1532  2020-12-18  The cryptocurrency giant’s initial public offe...   neutral\n",
       "1533  2020-12-14  Roblox delayed its debut as Wall Street worrie...  negative\n",
       "1534  2020-12-03  Just 1 percent of borrowers received a quarter...  negative\n",
       "\n",
       "[1535 rows x 3 columns]"
      ]
     },
     "execution_count": 4,
     "metadata": {},
     "output_type": "execute_result"
    }
   ],
   "source": [
    "msft_senti = pd.read_csv('./data/msft_with_sentiment_label.csv')\n",
    "msft_senti = msft_senti.drop('input',axis =1)\n",
    "msft_senti"
   ]
  },
  {
   "cell_type": "markdown",
   "metadata": {},
   "source": [
    "### check empty dates"
   ]
  },
  {
   "cell_type": "code",
   "execution_count": 7,
   "metadata": {},
   "outputs": [
    {
     "data": {
      "text/plain": [
       "<bound method IndexOpsMixin.tolist of DatetimeIndex(['2020-01-01', '2020-01-03', '2020-01-04', '2020-01-05',\n",
       "               '2020-01-06', '2020-01-11', '2020-01-12', '2020-01-14',\n",
       "               '2020-01-18', '2020-01-19',\n",
       "               ...\n",
       "               '2024-05-17', '2024-05-18', '2024-05-19', '2024-05-23',\n",
       "               '2024-05-26', '2024-06-02', '2024-06-12', '2024-06-15',\n",
       "               '2024-06-21', '2024-06-26'],\n",
       "              dtype='datetime64[ns]', length=779, freq=None)>"
      ]
     },
     "execution_count": 7,
     "metadata": {},
     "output_type": "execute_result"
    }
   ],
   "source": [
    "missing_dates = pd.date_range(start = '2020-01-01', end = '2024-06-28' ).difference(msft_senti.date)\n",
    "missing_dates.to_list"
   ]
  }
 ],
 "metadata": {
  "kernelspec": {
   "display_name": "base",
   "language": "python",
   "name": "python3"
  },
  "language_info": {
   "codemirror_mode": {
    "name": "ipython",
    "version": 3
   },
   "file_extension": ".py",
   "mimetype": "text/x-python",
   "name": "python",
   "nbconvert_exporter": "python",
   "pygments_lexer": "ipython3",
   "version": "3.8.8"
  }
 },
 "nbformat": 4,
 "nbformat_minor": 2
}
